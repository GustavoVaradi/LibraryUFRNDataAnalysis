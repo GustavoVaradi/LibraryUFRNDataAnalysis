{
 "cells": [
  {
   "cell_type": "code",
   "execution_count": 1,
   "id": "8b8e5c31-874d-4e50-b00c-81004974b7ea",
   "metadata": {},
   "outputs": [],
   "source": [
    "import os\n",
    "import pandas as pd"
   ]
  },
  {
   "cell_type": "code",
   "execution_count": 11,
   "id": "3ac3822d-fbd6-4280-9c24-f3a0ec371c10",
   "metadata": {},
   "outputs": [],
   "source": [
    "x = os.listdir('dados_emprestimos')"
   ]
  },
  {
   "cell_type": "code",
   "execution_count": 7,
   "id": "4040abf0-30a4-4bb7-b424-b0887669f908",
   "metadata": {},
   "outputs": [],
   "source": [
    "dados_exemplares = pd.read_parquet('dados_exemplares.parquet')"
   ]
  },
  {
   "cell_type": "code",
   "execution_count": 8,
   "id": "20c811fc-ab7b-4f49-826f-8d4638d06ec5",
   "metadata": {
    "scrolled": true
   },
   "outputs": [],
   "source": [
    "df1 = pd.read_csv('dados_emprestimos/emprestimos-20101.csv')"
   ]
  },
  {
   "cell_type": "code",
   "execution_count": 10,
   "id": "ecdeb923-38ba-464a-b73f-14a3aa08c121",
   "metadata": {},
   "outputs": [
    {
     "name": "stdout",
     "output_type": "stream",
     "text": [
      "<class 'pandas.core.frame.DataFrame'>\n",
      "RangeIndex: 95357 entries, 0 to 95356\n",
      "Data columns (total 7 columns):\n",
      " #   Column                Non-Null Count  Dtype  \n",
      "---  ------                --------------  -----  \n",
      " 0   id_emprestimo         95357 non-null  int64  \n",
      " 1   codigo_barras         95357 non-null  object \n",
      " 2   data_renovacao        38803 non-null  object \n",
      " 3   data_emprestimo       95357 non-null  object \n",
      " 4   data_devolucao        95354 non-null  object \n",
      " 5   matricula_ou_siape    95155 non-null  float64\n",
      " 6   tipo_vinculo_usuario  95357 non-null  object \n",
      "dtypes: float64(1), int64(1), object(5)\n",
      "memory usage: 5.1+ MB\n"
     ]
    }
   ],
   "source": [
    "df1.info()"
   ]
  },
  {
   "cell_type": "code",
   "execution_count": 20,
   "id": "204d4976-f945-41c9-9d3a-6014cd9e5097",
   "metadata": {},
   "outputs": [
    {
     "name": "stdout",
     "output_type": "stream",
     "text": [
      "planilha -> emprestimos-20101.csv - shape -> (95357, 7)\n",
      "planilha -> emprestimos-20102.csv - shape -> (100696, 7)\n",
      "planilha -> emprestimos-20111.csv - shape -> (108547, 7)\n",
      "planilha -> emprestimos-20112.csv - shape -> (120813, 7)\n",
      "planilha -> emprestimos-20121.csv - shape -> (132606, 7)\n",
      "planilha -> emprestimos-20122.csv - shape -> (117431, 7)\n",
      "planilha -> emprestimos-20131.csv - shape -> (135090, 7)\n",
      "planilha -> emprestimos-20132.csv - shape -> (124196, 7)\n",
      "planilha -> emprestimos-20141.csv - shape -> (113181, 7)\n",
      "planilha -> emprestimos-20142.csv - shape -> (122129, 7)\n",
      "planilha -> emprestimos-20151.csv - shape -> (126738, 7)\n",
      "planilha -> emprestimos-20152.csv - shape -> (98115, 7)\n",
      "planilha -> emprestimos-20161.csv - shape -> (118733, 7)\n",
      "planilha -> emprestimos-20162.csv - shape -> (107179, 7)\n",
      "planilha -> emprestimos-20171.csv - shape -> (118714, 7)\n",
      "planilha -> emprestimos-20172.csv - shape -> (110326, 7)\n",
      "planilha -> emprestimos-20181.csv - shape -> (107065, 7)\n",
      "planilha -> emprestimos-20182.csv - shape -> (95015, 7)\n",
      "planilha -> emprestimos-20191.csv - shape -> (95839, 7)\n",
      "planilha -> emprestimos-20192.csv - shape -> (83687, 7)\n",
      "planilha -> emprestimos-20201.csv - shape -> (26561, 7)\n"
     ]
    }
   ],
   "source": [
    "for i in x:\n",
    "    print(f'planilha -> {i} - shape -> {pd.read_csv(\"dados_emprestimos/\"+i).shape}')\n"
   ]
  },
  {
   "cell_type": "code",
   "execution_count": null,
   "id": "f41fe0d2-bd83-455a-8e71-a9d9c2ba17d6",
   "metadata": {},
   "outputs": [],
   "source": [
    "df"
   ]
  }
 ],
 "metadata": {
  "kernelspec": {
   "display_name": "Python 3 (ipykernel)",
   "language": "python",
   "name": "python3"
  },
  "language_info": {
   "codemirror_mode": {
    "name": "ipython",
    "version": 3
   },
   "file_extension": ".py",
   "mimetype": "text/x-python",
   "name": "python",
   "nbconvert_exporter": "python",
   "pygments_lexer": "ipython3",
   "version": "3.11.7"
  }
 },
 "nbformat": 4,
 "nbformat_minor": 5
}
