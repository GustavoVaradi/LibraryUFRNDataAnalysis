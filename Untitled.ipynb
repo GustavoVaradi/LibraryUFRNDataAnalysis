{
 "cells": [
  {
   "cell_type": "code",
   "execution_count": 77,
   "id": "8b8e5c31-874d-4e50-b00c-81004974b7ea",
   "metadata": {},
   "outputs": [],
   "source": [
    "import os\n",
    "import pandas as pd\n",
    "import seaborn as sns\n",
    "import matplotlib.pyplot as plt\n",
    "\n",
    "plt.style.use('fivethirtyeight')"
   ]
  },
  {
   "cell_type": "code",
   "execution_count": 2,
   "id": "4040abf0-30a4-4bb7-b424-b0887669f908",
   "metadata": {},
   "outputs": [],
   "source": [
    "dados_exemplares = pd.read_parquet('dados_exemplares.parquet')"
   ]
  },
  {
   "cell_type": "code",
   "execution_count": 3,
   "id": "f41fe0d2-bd83-455a-8e71-a9d9c2ba17d6",
   "metadata": {},
   "outputs": [],
   "source": [
    "csv_files = os.listdir('dados_emprestimos')\n",
    "dfs = []\n",
    "for file in csv_files:\n",
    "    file_path = os.path.join('dados_emprestimos/', file)\n",
    "    df = pd.read_csv(file_path)\n",
    "    dfs.append(df)\n",
    "\n",
    "'''new_dfs = []\n",
    "for i in new_dfs:\n",
    "    if i == '.ipynb_checkpoints':\n",
    "        new_dfs.remove(i)\n",
    "'''\n",
    "unified_df = pd.concat(dfs, ignore_index=True)\n",
    "unified_df.to_csv('dados_emprestimos/unified_data.csv', index=False)\n",
    "#print(new_dfs)"
   ]
  },
  {
   "cell_type": "code",
   "execution_count": 4,
   "id": "94aada2a-9fd8-4317-bb37-8bf61edf7e37",
   "metadata": {},
   "outputs": [],
   "source": [
    "data = pd.read_csv(\"dados_emprestimos/unified_data.csv\")"
   ]
  },
  {
   "cell_type": "code",
   "execution_count": 5,
   "id": "90fbb9cf-b555-435b-85a9-515d51018feb",
   "metadata": {},
   "outputs": [],
   "source": [
    "dados_exemplares = dados_exemplares.drop_duplicates()"
   ]
  },
  {
   "cell_type": "code",
   "execution_count": 6,
   "id": "261a355f-e689-40b1-b6e6-a26aeea8e7e6",
   "metadata": {},
   "outputs": [],
   "source": [
    "data = data.drop_duplicates()"
   ]
  },
  {
   "cell_type": "code",
   "execution_count": 7,
   "id": "abf22400-d316-42fc-869d-a931bcface08",
   "metadata": {},
   "outputs": [],
   "source": [
    "data = data.merge(dados_exemplares)"
   ]
  },
  {
   "cell_type": "code",
   "execution_count": 8,
   "id": "6dbe516a-a54b-40fe-9628-d9f624693a14",
   "metadata": {},
   "outputs": [
    {
     "data": {
      "text/plain": [
       "(2072522, 13)"
      ]
     },
     "execution_count": 8,
     "metadata": {},
     "output_type": "execute_result"
    }
   ],
   "source": [
    "data.shape"
   ]
  },
  {
   "cell_type": "code",
   "execution_count": 9,
   "id": "104db8e5-929b-488b-9697-7a2bba2db66b",
   "metadata": {},
   "outputs": [],
   "source": [
    "data['localizacao'] = data['localizacao'].astype('int64')"
   ]
  },
  {
   "cell_type": "markdown",
   "id": "42a6d749-f11a-4a02-bd96-be61e9e7a375",
   "metadata": {},
   "source": [
    "* 000 a 099: Generalidades. Ciência e conhecimento\n",
    "* 100 a 199: Filosofia e psicologia.\n",
    "* 200 a 299: Religião.\n",
    "* 300 a 399: Ciências sociais.\n",
    "* 400 a 499: ND\n",
    "* 500 a 599: Matemática e ciências naturais.\n",
    "* 600 a 699: Ciências aplicadas.\n",
    "* 700 a 799: Belas artes.\n",
    "* 800 a 899: Linguagem. Língua. Linguística.\n",
    "* 900 a 999: Geografia. Biografia. História.istória.\""
   ]
  },
  {
   "cell_type": "code",
   "execution_count": 10,
   "id": "73356d80-978f-4a0b-831f-9aecd9529356",
   "metadata": {},
   "outputs": [],
   "source": [
    "def verificando_localizacao(valor):\n",
    "    categories = {\n",
    "        (0, 99): 'Generalidades. Ciência e conhecimento',\n",
    "        (100, 199): 'Filosofia e psicologia',\n",
    "        (200, 299): 'Religião',\n",
    "        (300, 399): 'Ciências sociais',\n",
    "        (400, 499): 'ND',\n",
    "        (500, 599): 'Matemática e ciências naturais',\n",
    "        (600, 699): 'Ciências aplicadas',\n",
    "        (700, 799): 'Belas artes',\n",
    "        (800, 899): 'Linguagem Língua Linguística',\n",
    "        (900, 999): 'Geografia  Biografia História'\n",
    "    }\n",
    "\n",
    "    for start, end in categories:\n",
    "        if start <= valor <= end:\n",
    "            return categories[(start, end)]\n",
    "\n",
    "    return 'Valor fora do intervalo válido'"
   ]
  },
  {
   "cell_type": "code",
   "execution_count": 11,
   "id": "f69f475c-1baf-4af7-a27c-92ecc6867d3a",
   "metadata": {},
   "outputs": [],
   "source": [
    "data['categorias'] = data['localizacao'].apply(verificando_localizacao)"
   ]
  },
  {
   "cell_type": "code",
   "execution_count": 12,
   "id": "26973b8e-a80f-441e-9083-b306a40ca410",
   "metadata": {},
   "outputs": [],
   "source": [
    "data['data_renovacao'] = pd.to_datetime(data['data_renovacao'])\n",
    "data['data_emprestimo'] = pd.to_datetime(data['data_emprestimo'])\n",
    "data['data_devolucao'] = pd.to_datetime(data['data_devolucao'])"
   ]
  },
  {
   "cell_type": "code",
   "execution_count": 13,
   "id": "9cc9deb4-beb9-4f19-a4f2-5b9d897fa852",
   "metadata": {},
   "outputs": [],
   "source": [
    "data = data.drop(columns='registro_sistema')"
   ]
  },
  {
   "cell_type": "code",
   "execution_count": 14,
   "id": "30ea6c0f-7c21-4110-9a2d-c0aae32aca20",
   "metadata": {},
   "outputs": [],
   "source": [
    "data['matricula_ou_siape'] = data['matricula_ou_siape'].astype(object) "
   ]
  },
  {
   "cell_type": "code",
   "execution_count": 15,
   "id": "9f4d3db5-52bc-4eb0-9005-6f7226876c67",
   "metadata": {
    "scrolled": true
   },
   "outputs": [
    {
     "data": {
      "text/plain": [
       "Index(['id_emprestimo', 'codigo_barras', 'data_renovacao', 'data_emprestimo',\n",
       "       'data_devolucao', 'matricula_ou_siape', 'tipo_vinculo_usuario',\n",
       "       'id_exemplar', 'colecao', 'biblioteca', 'status_material',\n",
       "       'localizacao', 'categorias'],\n",
       "      dtype='object')"
      ]
     },
     "execution_count": 15,
     "metadata": {},
     "output_type": "execute_result"
    }
   ],
   "source": [
    "data.columns"
   ]
  },
  {
   "cell_type": "markdown",
   "id": "2c73794e-b4fd-472e-b1ab-e18146163bba",
   "metadata": {},
   "source": [
    "- Para isso, verifique qual é a **quantidade total de exemplares emprestados por cada ano e plote um gráfico de linhas**.\n",
    "    - Depois, **faça uma análise em relação à visualização gerada**.\n",
    "    - Atente-se para a quantidade de exemplares emprestados, e não de empréstimos realizados."
   ]
  },
  {
   "cell_type": "code",
   "execution_count": 16,
   "id": "1c85d834-2f06-45f1-b648-4bcd22566aa7",
   "metadata": {},
   "outputs": [],
   "source": [
    "emprestimo_por_ano = data.groupby(data['data_emprestimo'].dt.year)['id_emprestimo'].count().reset_index()"
   ]
  },
  {
   "cell_type": "code",
   "execution_count": 17,
   "id": "fb416e5f-4be3-43f6-86fe-86fa843e4ff3",
   "metadata": {},
   "outputs": [
    {
     "data": {
      "text/plain": [
       "Index(['data_emprestimo', 'id_emprestimo'], dtype='object')"
      ]
     },
     "execution_count": 17,
     "metadata": {},
     "output_type": "execute_result"
    }
   ],
   "source": [
    "emprestimo_por_ano.columns"
   ]
  },
  {
   "cell_type": "code",
   "execution_count": 78,
   "id": "26bfb6ea-c431-413e-97b2-232116bfad4e",
   "metadata": {},
   "outputs": [
    {
     "name": "stderr",
     "output_type": "stream",
     "text": [
      "C:\\Users\\Varad\\anaconda3\\Lib\\site-packages\\seaborn\\_oldcore.py:1119: FutureWarning: use_inf_as_na option is deprecated and will be removed in a future version. Convert inf values to NaN before operating instead.\n",
      "  with pd.option_context('mode.use_inf_as_na', True):\n",
      "C:\\Users\\Varad\\anaconda3\\Lib\\site-packages\\seaborn\\_oldcore.py:1119: FutureWarning: use_inf_as_na option is deprecated and will be removed in a future version. Convert inf values to NaN before operating instead.\n",
      "  with pd.option_context('mode.use_inf_as_na', True):\n"
     ]
    },
    {
     "data": {
      "text/plain": [
       "Text(0.5, 0, 'ano')"
      ]
     },
     "execution_count": 78,
     "metadata": {},
     "output_type": "execute_result"
    },
    {
     "data": {
      "image/png": "[encoded data removed]",
      "text/plain": [
       "<Figure size 640x480 with 1 Axes>"
      ]
     },
     "metadata": {},
     "output_type": "display_data"
    }
   ],
   "source": [
    "ax=sns.lineplot(data=emprestimo_por_ano, x='data_emprestimo', y='id_emprestimo')\n",
    "ax.set_title('Quantidade de exemplares emprestados por ano')\n",
    "#ax.bar_label(ax.containers[0], fontsize=7, fmt='{:,.0f}');\n",
    "ax.set_ylabel('Quantidade')\n",
    "ax.set_xlabel('ano')"
   ]
  },
  {
   "cell_type": "markdown",
   "id": "a6fbe456-e972-439f-a569-83fc636d7434",
   "metadata": {},
   "source": [
    "A diretoria também gostaria de gerenciar melhor os recursos humanos da biblioteca de acordo com a demanda de trabalho existente. Por exemplo:\n",
    "\n",
    "- Gerenciar a programação de férias dos colaboradores de acordo com os meses de menor demanda;\n",
    "- Programar atividades que não sejam de atendimento ao usuário para períodos específicos de menor demanda."
   ]
  },
  {
   "cell_type": "code",
   "execution_count": 19,
   "id": "29e9030a-3988-4d3c-9c6d-3a1306b494ae",
   "metadata": {},
   "outputs": [],
   "source": [
    "emprestimo_por_mes = data.groupby(data['data_emprestimo'].dt.month)['id_emprestimo'].count().reset_index().sort_values(by='id_emprestimo',ascending=False)"
   ]
  },
  {
   "cell_type": "code",
   "execution_count": 20,
   "id": "0db6ea2d-f601-4d7e-a4a7-95d4706c7f06",
   "metadata": {},
   "outputs": [],
   "source": [
    "meses = {1:'jan',2:'fev',3:'mar',4:'abr',5:'mai',6:'jun',7:'jul',8:'ago',9:'set',10:'out',11:'nov',12:'dez'}\n",
    "#def troca_de_mes(valor):\n",
    " #   for key, value in meses.items():\n",
    "  #      if valor in range(key[0], key[1] + 1):\n",
    "   #         return value\n",
    "\n",
    "emprestimo_por_mes['data_emprestimo'] = emprestimo_por_mes['data_emprestimo'].map(meses)"
   ]
  },
  {
   "cell_type": "code",
   "execution_count": 21,
   "id": "7a2ad581-ef07-4397-97bc-dd37f5b82d5c",
   "metadata": {},
   "outputs": [
    {
     "name": "stderr",
     "output_type": "stream",
     "text": [
      "C:\\Users\\Varad\\anaconda3\\Lib\\site-packages\\seaborn\\_oldcore.py:1119: FutureWarning: use_inf_as_na option is deprecated and will be removed in a future version. Convert inf values to NaN before operating instead.\n",
      "  with pd.option_context('mode.use_inf_as_na', True):\n",
      "C:\\Users\\Varad\\anaconda3\\Lib\\site-packages\\seaborn\\_oldcore.py:1119: FutureWarning: use_inf_as_na option is deprecated and will be removed in a future version. Convert inf values to NaN before operating instead.\n",
      "  with pd.option_context('mode.use_inf_as_na', True):\n"
     ]
    },
    {
     "data": {
      "text/plain": [
       "Text(0.5, 0, 'Mês')"
      ]
     },
     "execution_count": 21,
     "metadata": {},
     "output_type": "execute_result"
    },
    {
     "data": {
      "image/png": "[encoded data removed]",
      "text/plain": [
       "<Figure size 640x480 with 1 Axes>"
      ]
     },
     "metadata": {},
     "output_type": "display_data"
    }
   ],
   "source": [
    "ax = sns.lineplot(data=emprestimo_por_mes, x='data_emprestimo', y='id_emprestimo')\n",
    "ax.set_title('Quantidade de exemplares emprestados por mês')\n",
    "ax.set_ylabel('Quantidade')\n",
    "ax.set_xlabel('Mês')"
   ]
  },
  {
   "cell_type": "markdown",
   "id": "7b516faa-e47d-499e-a671-e83a75da63ed",
   "metadata": {},
   "source": [
    "# insights"
   ]
  },
  {
   "cell_type": "code",
   "execution_count": 22,
   "id": "1b4d548d-4346-4a6a-881e-5c7ad2a92122",
   "metadata": {},
   "outputs": [],
   "source": [
    "emprestimo_por_hora = data.groupby(data['data_emprestimo'].dt.hour)['id_emprestimo'].count().reset_index()"
   ]
  },
  {
   "cell_type": "code",
   "execution_count": 79,
   "id": "8a6722c5-d9cd-45fc-9b68-90624ec7da1c",
   "metadata": {},
   "outputs": [
    {
     "data": {
      "text/plain": [
       "Text(0.5, 1.0, 'quantidade de exemplares emprestados por hora')"
      ]
     },
     "execution_count": 79,
     "metadata": {},
     "output_type": "execute_result"
    },
    {
     "data": {
      "image/png": "[encoded data removed]",
      "text/plain": [
       "<Figure size 640x480 with 1 Axes>"
      ]
     },
     "metadata": {},
     "output_type": "display_data"
    }
   ],
   "source": [
    "ax = sns.barplot(data=emprestimo_por_hora, x='data_emprestimo', y='id_emprestimo')\n",
    "ax.set_title('quantidade de exemplares emprestados por hora')"
   ]
  },
  {
   "cell_type": "code",
   "execution_count": 24,
   "id": "951e796d-5d51-459b-abc1-667cef0a7e4f",
   "metadata": {},
   "outputs": [
    {
     "data": {
      "text/plain": [
       "Index(['id_emprestimo', 'codigo_barras', 'data_renovacao', 'data_emprestimo',\n",
       "       'data_devolucao', 'matricula_ou_siape', 'tipo_vinculo_usuario',\n",
       "       'id_exemplar', 'colecao', 'biblioteca', 'status_material',\n",
       "       'localizacao', 'categorias'],\n",
       "      dtype='object')"
      ]
     },
     "execution_count": 24,
     "metadata": {},
     "output_type": "execute_result"
    }
   ],
   "source": [
    "data.columns"
   ]
  },
  {
   "cell_type": "code",
   "execution_count": 25,
   "id": "fc65c839-8b86-40a7-84da-978c1b3d8e64",
   "metadata": {},
   "outputs": [],
   "source": [
    "categoricas = data[['tipo_vinculo_usuario', 'colecao', 'biblioteca', 'categorias']]"
   ]
  },
  {
   "cell_type": "code",
   "execution_count": 55,
   "id": "a73f8013-dace-482c-b074-31a12480f36d",
   "metadata": {},
   "outputs": [],
   "source": [
    "def frequencia(variavel, categoria):\n",
    "    df = categoria[variavel].value_counts().reset_index()\n",
    "    df.columns = ['variavel', 'quantidade']\n",
    "    df['percentual'] = (df['quantidade'] / df['quantidade'].sum()) * 100\n",
    "    df['percentual'] = df['percentual'].round(1)\n",
    "\n",
    "    return df"
   ]
  },
  {
   "cell_type": "code",
   "execution_count": 56,
   "id": "de2bde95-567e-4558-aee1-80eaa5b43329",
   "metadata": {},
   "outputs": [],
   "source": [
    "tipo = frequencia('tipo_vinculo_usuario', categoricas)"
   ]
  },
  {
   "cell_type": "code",
   "execution_count": 57,
   "id": "86267734-b6c9-45ab-9461-36b9627987c9",
   "metadata": {},
   "outputs": [
    {
     "data": {
      "text/html": [
       "<div>\n",
       "<style scoped>\n",
       "    .dataframe tbody tr th:only-of-type {\n",
       "        vertical-align: middle;\n",
       "    }\n",
       "\n",
       "    .dataframe tbody tr th {\n",
       "        vertical-align: top;\n",
       "    }\n",
       "\n",
       "    .dataframe thead th {\n",
       "        text-align: right;\n",
       "    }\n",
       "</style>\n",
       "<table border=\"1\" class=\"dataframe\">\n",
       "  <thead>\n",
       "    <tr style=\"text-align: right;\">\n",
       "      <th></th>\n",
       "      <th>variavel</th>\n",
       "      <th>quantidade</th>\n",
       "      <th>percentual</th>\n",
       "    </tr>\n",
       "  </thead>\n",
       "  <tbody>\n",
       "    <tr>\n",
       "      <th>0</th>\n",
       "      <td>ALUNO DE GRADUAÇÃO</td>\n",
       "      <td>1612324</td>\n",
       "      <td>77.8</td>\n",
       "    </tr>\n",
       "    <tr>\n",
       "      <th>1</th>\n",
       "      <td>ALUNO DE PÓS-GRADUAÇÃO</td>\n",
       "      <td>302541</td>\n",
       "      <td>14.6</td>\n",
       "    </tr>\n",
       "    <tr>\n",
       "      <th>2</th>\n",
       "      <td>DOCENTE</td>\n",
       "      <td>70981</td>\n",
       "      <td>3.4</td>\n",
       "    </tr>\n",
       "    <tr>\n",
       "      <th>3</th>\n",
       "      <td>SERVIDOR TÉCNICO-ADMINISTRATIVO</td>\n",
       "      <td>32184</td>\n",
       "      <td>1.6</td>\n",
       "    </tr>\n",
       "    <tr>\n",
       "      <th>4</th>\n",
       "      <td>ALUNO MÉDIO/TÉCNICO</td>\n",
       "      <td>28029</td>\n",
       "      <td>1.4</td>\n",
       "    </tr>\n",
       "    <tr>\n",
       "      <th>5</th>\n",
       "      <td>DOCENTE EXTERNO</td>\n",
       "      <td>23949</td>\n",
       "      <td>1.2</td>\n",
       "    </tr>\n",
       "    <tr>\n",
       "      <th>6</th>\n",
       "      <td>USUÁRIO EXTERNO</td>\n",
       "      <td>2509</td>\n",
       "      <td>0.1</td>\n",
       "    </tr>\n",
       "    <tr>\n",
       "      <th>7</th>\n",
       "      <td>OUTROS</td>\n",
       "      <td>5</td>\n",
       "      <td>0.0</td>\n",
       "    </tr>\n",
       "  </tbody>\n",
       "</table>\n",
       "</div>"
      ],
      "text/plain": [
       "                          variavel  quantidade  percentual\n",
       "0               ALUNO DE GRADUAÇÃO     1612324        77.8\n",
       "1           ALUNO DE PÓS-GRADUAÇÃO      302541        14.6\n",
       "2                          DOCENTE       70981         3.4\n",
       "3  SERVIDOR TÉCNICO-ADMINISTRATIVO       32184         1.6\n",
       "4              ALUNO MÉDIO/TÉCNICO       28029         1.4\n",
       "5                  DOCENTE EXTERNO       23949         1.2\n",
       "6                  USUÁRIO EXTERNO        2509         0.1\n",
       "7                           OUTROS           5         0.0"
      ]
     },
     "execution_count": 57,
     "metadata": {},
     "output_type": "execute_result"
    }
   ],
   "source": [
    "tipo"
   ]
  },
  {
   "cell_type": "code",
   "execution_count": 61,
   "id": "1cbc61de-3674-4fd0-964c-6695150dd257",
   "metadata": {},
   "outputs": [
    {
     "data": {
      "text/plain": [
       "Index(['variavel', 'quantidade', 'percentual'], dtype='object')"
      ]
     },
     "execution_count": 61,
     "metadata": {},
     "output_type": "execute_result"
    }
   ],
   "source": [
    "tipo.columns"
   ]
  },
  {
   "cell_type": "code",
   "execution_count": 66,
   "id": "76a6dab8-4b4d-4418-8276-b46fd3c05b6c",
   "metadata": {},
   "outputs": [
    {
     "data": {
      "text/plain": [
       "<Axes: xlabel='percentual', ylabel='variavel'>"
      ]
     },
     "execution_count": 66,
     "metadata": {},
     "output_type": "execute_result"
    },
    {
     "data": {
      "image/png": "[encoded data removed]",
      "text/plain": [
       "<Figure size 640x480 with 1 Axes>"
      ]
     },
     "metadata": {},
     "output_type": "display_data"
    }
   ],
   "source": [
    "sns.barplot(data=tipo, x='percentual', y='variavel')"
   ]
  },
  {
   "cell_type": "code",
   "execution_count": 67,
   "id": "fde7a05e-65b1-4ba4-aa48-96e26ad00ea7",
   "metadata": {},
   "outputs": [],
   "source": [
    "colecoes = frequencia('colecao', categoricas)"
   ]
  },
  {
   "cell_type": "code",
   "execution_count": 68,
   "id": "07c5df14-a7b0-4208-bb15-5255519cac25",
   "metadata": {},
   "outputs": [
    {
     "data": {
      "text/html": [
       "<div>\n",
       "<style scoped>\n",
       "    .dataframe tbody tr th:only-of-type {\n",
       "        vertical-align: middle;\n",
       "    }\n",
       "\n",
       "    .dataframe tbody tr th {\n",
       "        vertical-align: top;\n",
       "    }\n",
       "\n",
       "    .dataframe thead th {\n",
       "        text-align: right;\n",
       "    }\n",
       "</style>\n",
       "<table border=\"1\" class=\"dataframe\">\n",
       "  <thead>\n",
       "    <tr style=\"text-align: right;\">\n",
       "      <th></th>\n",
       "      <th>variavel</th>\n",
       "      <th>quantidade</th>\n",
       "      <th>percentual</th>\n",
       "    </tr>\n",
       "  </thead>\n",
       "  <tbody>\n",
       "    <tr>\n",
       "      <th>0</th>\n",
       "      <td>Acervo Circulante</td>\n",
       "      <td>2053120</td>\n",
       "      <td>99.1</td>\n",
       "    </tr>\n",
       "    <tr>\n",
       "      <th>1</th>\n",
       "      <td>Multimeios</td>\n",
       "      <td>7954</td>\n",
       "      <td>0.4</td>\n",
       "    </tr>\n",
       "    <tr>\n",
       "      <th>2</th>\n",
       "      <td>Monografias</td>\n",
       "      <td>4021</td>\n",
       "      <td>0.2</td>\n",
       "    </tr>\n",
       "    <tr>\n",
       "      <th>3</th>\n",
       "      <td>Dissertações</td>\n",
       "      <td>2406</td>\n",
       "      <td>0.1</td>\n",
       "    </tr>\n",
       "    <tr>\n",
       "      <th>4</th>\n",
       "      <td>Obras de Referência</td>\n",
       "      <td>1954</td>\n",
       "      <td>0.1</td>\n",
       "    </tr>\n",
       "    <tr>\n",
       "      <th>5</th>\n",
       "      <td>Publicações de Autores do RN</td>\n",
       "      <td>866</td>\n",
       "      <td>0.0</td>\n",
       "    </tr>\n",
       "    <tr>\n",
       "      <th>6</th>\n",
       "      <td>Publicações da UFRN</td>\n",
       "      <td>764</td>\n",
       "      <td>0.0</td>\n",
       "    </tr>\n",
       "    <tr>\n",
       "      <th>7</th>\n",
       "      <td>Teses</td>\n",
       "      <td>714</td>\n",
       "      <td>0.0</td>\n",
       "    </tr>\n",
       "    <tr>\n",
       "      <th>8</th>\n",
       "      <td>Folhetos</td>\n",
       "      <td>271</td>\n",
       "      <td>0.0</td>\n",
       "    </tr>\n",
       "    <tr>\n",
       "      <th>9</th>\n",
       "      <td>Necessidades Educacionais Específicas</td>\n",
       "      <td>130</td>\n",
       "      <td>0.0</td>\n",
       "    </tr>\n",
       "    <tr>\n",
       "      <th>10</th>\n",
       "      <td>Trabalho Acadêmico</td>\n",
       "      <td>115</td>\n",
       "      <td>0.0</td>\n",
       "    </tr>\n",
       "    <tr>\n",
       "      <th>11</th>\n",
       "      <td>Eventos</td>\n",
       "      <td>101</td>\n",
       "      <td>0.0</td>\n",
       "    </tr>\n",
       "    <tr>\n",
       "      <th>12</th>\n",
       "      <td>Coleção Mossoroense</td>\n",
       "      <td>44</td>\n",
       "      <td>0.0</td>\n",
       "    </tr>\n",
       "    <tr>\n",
       "      <th>13</th>\n",
       "      <td>Coleção Zila Mamede</td>\n",
       "      <td>30</td>\n",
       "      <td>0.0</td>\n",
       "    </tr>\n",
       "    <tr>\n",
       "      <th>14</th>\n",
       "      <td>Literatura de Cordel</td>\n",
       "      <td>24</td>\n",
       "      <td>0.0</td>\n",
       "    </tr>\n",
       "    <tr>\n",
       "      <th>15</th>\n",
       "      <td>Obras Raras</td>\n",
       "      <td>8</td>\n",
       "      <td>0.0</td>\n",
       "    </tr>\n",
       "  </tbody>\n",
       "</table>\n",
       "</div>"
      ],
      "text/plain": [
       "                                 variavel  quantidade  percentual\n",
       "0                       Acervo Circulante     2053120        99.1\n",
       "1                              Multimeios        7954         0.4\n",
       "2                             Monografias        4021         0.2\n",
       "3                            Dissertações        2406         0.1\n",
       "4                     Obras de Referência        1954         0.1\n",
       "5            Publicações de Autores do RN         866         0.0\n",
       "6                     Publicações da UFRN         764         0.0\n",
       "7                                   Teses         714         0.0\n",
       "8                                Folhetos         271         0.0\n",
       "9   Necessidades Educacionais Específicas         130         0.0\n",
       "10                     Trabalho Acadêmico         115         0.0\n",
       "11                                Eventos         101         0.0\n",
       "12                    Coleção Mossoroense          44         0.0\n",
       "13                    Coleção Zila Mamede          30         0.0\n",
       "14                   Literatura de Cordel          24         0.0\n",
       "15                            Obras Raras           8         0.0"
      ]
     },
     "execution_count": 68,
     "metadata": {},
     "output_type": "execute_result"
    }
   ],
   "source": [
    "colecoes"
   ]
  },
  {
   "cell_type": "code",
   "execution_count": 70,
   "id": "cafa12bd-f2c3-49a5-af81-63ca25f82217",
   "metadata": {},
   "outputs": [],
   "source": [
    "bibliotecas = frequencia('biblioteca', categoricas)"
   ]
  },
  {
   "cell_type": "code",
   "execution_count": 71,
   "id": "54816324-f778-4664-b123-c8dafe6753e8",
   "metadata": {},
   "outputs": [
    {
     "data": {
      "text/html": [
       "<div>\n",
       "<style scoped>\n",
       "    .dataframe tbody tr th:only-of-type {\n",
       "        vertical-align: middle;\n",
       "    }\n",
       "\n",
       "    .dataframe tbody tr th {\n",
       "        vertical-align: top;\n",
       "    }\n",
       "\n",
       "    .dataframe thead th {\n",
       "        text-align: right;\n",
       "    }\n",
       "</style>\n",
       "<table border=\"1\" class=\"dataframe\">\n",
       "  <thead>\n",
       "    <tr style=\"text-align: right;\">\n",
       "      <th></th>\n",
       "      <th>variavel</th>\n",
       "      <th>quantidade</th>\n",
       "      <th>percentual</th>\n",
       "    </tr>\n",
       "  </thead>\n",
       "  <tbody>\n",
       "    <tr>\n",
       "      <th>0</th>\n",
       "      <td>Biblioteca Central Zila Mamede</td>\n",
       "      <td>1426122</td>\n",
       "      <td>68.8</td>\n",
       "    </tr>\n",
       "    <tr>\n",
       "      <th>1</th>\n",
       "      <td>Biblioteca Setorial do Centro Ciências da Saúd...</td>\n",
       "      <td>118614</td>\n",
       "      <td>5.7</td>\n",
       "    </tr>\n",
       "    <tr>\n",
       "      <th>2</th>\n",
       "      <td>Biblioteca Setorial da Faculdade de Ciências d...</td>\n",
       "      <td>77609</td>\n",
       "      <td>3.7</td>\n",
       "    </tr>\n",
       "    <tr>\n",
       "      <th>3</th>\n",
       "      <td>Biblioteca Setorial Prof. Alberto Moreira Camp...</td>\n",
       "      <td>66447</td>\n",
       "      <td>3.2</td>\n",
       "    </tr>\n",
       "    <tr>\n",
       "      <th>4</th>\n",
       "      <td>Biblioteca Setorial Profª. Maria Lúcia da Cost...</td>\n",
       "      <td>61478</td>\n",
       "      <td>3.0</td>\n",
       "    </tr>\n",
       "    <tr>\n",
       "      <th>5</th>\n",
       "      <td>Biblioteca Setorial Bertha Cruz Enders - ­Esco...</td>\n",
       "      <td>46040</td>\n",
       "      <td>2.2</td>\n",
       "    </tr>\n",
       "    <tr>\n",
       "      <th>6</th>\n",
       "      <td>Biblioteca Setorial do Centro de Ciências Huma...</td>\n",
       "      <td>40744</td>\n",
       "      <td>2.0</td>\n",
       "    </tr>\n",
       "    <tr>\n",
       "      <th>7</th>\n",
       "      <td>Biblioteca Setorial Dr. Paulo Bezerra - EMCM/R...</td>\n",
       "      <td>32097</td>\n",
       "      <td>1.5</td>\n",
       "    </tr>\n",
       "    <tr>\n",
       "      <th>8</th>\n",
       "      <td>Biblioteca Setorial Profª. Maria José Mamede G...</td>\n",
       "      <td>29089</td>\n",
       "      <td>1.4</td>\n",
       "    </tr>\n",
       "    <tr>\n",
       "      <th>9</th>\n",
       "      <td>Biblioteca Setorial Prof. Rodolfo Helinski - E...</td>\n",
       "      <td>27219</td>\n",
       "      <td>1.3</td>\n",
       "    </tr>\n",
       "    <tr>\n",
       "      <th>10</th>\n",
       "      <td>Biblioteca Setorial Prof. Francisco Gurgel De ...</td>\n",
       "      <td>26923</td>\n",
       "      <td>1.3</td>\n",
       "    </tr>\n",
       "    <tr>\n",
       "      <th>11</th>\n",
       "      <td>Biblioteca Setorial do Núcleo de Educação da I...</td>\n",
       "      <td>23656</td>\n",
       "      <td>1.1</td>\n",
       "    </tr>\n",
       "    <tr>\n",
       "      <th>12</th>\n",
       "      <td>Biblioteca Setorial Prof. Ronaldo Xavier de Ar...</td>\n",
       "      <td>22749</td>\n",
       "      <td>1.1</td>\n",
       "    </tr>\n",
       "    <tr>\n",
       "      <th>13</th>\n",
       "      <td>Biblioteca Setorial Pe. Jaime Diniz - Escola d...</td>\n",
       "      <td>21476</td>\n",
       "      <td>1.0</td>\n",
       "    </tr>\n",
       "    <tr>\n",
       "      <th>14</th>\n",
       "      <td>Biblioteca Setorial do Departamento de Artes -...</td>\n",
       "      <td>17099</td>\n",
       "      <td>0.8</td>\n",
       "    </tr>\n",
       "    <tr>\n",
       "      <th>15</th>\n",
       "      <td>Biblioteca Setorial Prof. Leopoldo Nelson - ­C...</td>\n",
       "      <td>12900</td>\n",
       "      <td>0.6</td>\n",
       "    </tr>\n",
       "    <tr>\n",
       "      <th>16</th>\n",
       "      <td>Biblioteca Setorial do Centro Ciências Sociais...</td>\n",
       "      <td>10533</td>\n",
       "      <td>0.5</td>\n",
       "    </tr>\n",
       "    <tr>\n",
       "      <th>17</th>\n",
       "      <td>Biblioteca Setorial Prof. Dr. Marcelo Bezerra ...</td>\n",
       "      <td>5057</td>\n",
       "      <td>0.2</td>\n",
       "    </tr>\n",
       "    <tr>\n",
       "      <th>18</th>\n",
       "      <td>Biblioteca Setorial Prof. Horácio Nicolas Soli...</td>\n",
       "      <td>4098</td>\n",
       "      <td>0.2</td>\n",
       "    </tr>\n",
       "    <tr>\n",
       "      <th>19</th>\n",
       "      <td>Biblioteca Setorial Moacyr de Góes - CE</td>\n",
       "      <td>1036</td>\n",
       "      <td>0.0</td>\n",
       "    </tr>\n",
       "    <tr>\n",
       "      <th>20</th>\n",
       "      <td>Biblioteca Setorial Árvore do Conhecimento - I...</td>\n",
       "      <td>919</td>\n",
       "      <td>0.0</td>\n",
       "    </tr>\n",
       "    <tr>\n",
       "      <th>21</th>\n",
       "      <td>Biblioteca Setorial do Núcleo de Ensino Superi...</td>\n",
       "      <td>617</td>\n",
       "      <td>0.0</td>\n",
       "    </tr>\n",
       "  </tbody>\n",
       "</table>\n",
       "</div>"
      ],
      "text/plain": [
       "                                             variavel  quantidade  percentual\n",
       "0                      Biblioteca Central Zila Mamede     1426122        68.8\n",
       "1   Biblioteca Setorial do Centro Ciências da Saúd...      118614         5.7\n",
       "2   Biblioteca Setorial da Faculdade de Ciências d...       77609         3.7\n",
       "3   Biblioteca Setorial Prof. Alberto Moreira Camp...       66447         3.2\n",
       "4   Biblioteca Setorial Profª. Maria Lúcia da Cost...       61478         3.0\n",
       "5   Biblioteca Setorial Bertha Cruz Enders - ­Esco...       46040         2.2\n",
       "6   Biblioteca Setorial do Centro de Ciências Huma...       40744         2.0\n",
       "7   Biblioteca Setorial Dr. Paulo Bezerra - EMCM/R...       32097         1.5\n",
       "8   Biblioteca Setorial Profª. Maria José Mamede G...       29089         1.4\n",
       "9   Biblioteca Setorial Prof. Rodolfo Helinski - E...       27219         1.3\n",
       "10  Biblioteca Setorial Prof. Francisco Gurgel De ...       26923         1.3\n",
       "11  Biblioteca Setorial do Núcleo de Educação da I...       23656         1.1\n",
       "12  Biblioteca Setorial Prof. Ronaldo Xavier de Ar...       22749         1.1\n",
       "13  Biblioteca Setorial Pe. Jaime Diniz - Escola d...       21476         1.0\n",
       "14  Biblioteca Setorial do Departamento de Artes -...       17099         0.8\n",
       "15  Biblioteca Setorial Prof. Leopoldo Nelson - ­C...       12900         0.6\n",
       "16  Biblioteca Setorial do Centro Ciências Sociais...       10533         0.5\n",
       "17  Biblioteca Setorial Prof. Dr. Marcelo Bezerra ...        5057         0.2\n",
       "18  Biblioteca Setorial Prof. Horácio Nicolas Soli...        4098         0.2\n",
       "19            Biblioteca Setorial Moacyr de Góes - CE        1036         0.0\n",
       "20  Biblioteca Setorial Árvore do Conhecimento - I...         919         0.0\n",
       "21  Biblioteca Setorial do Núcleo de Ensino Superi...         617         0.0"
      ]
     },
     "execution_count": 71,
     "metadata": {},
     "output_type": "execute_result"
    }
   ],
   "source": [
    "bibliotecas"
   ]
  },
  {
   "cell_type": "code",
   "execution_count": 72,
   "id": "913be2e4-0246-44fb-a725-df0d9308fc6a",
   "metadata": {},
   "outputs": [],
   "source": [
    "categorias = frequencia('categorias', categoricas)"
   ]
  },
  {
   "cell_type": "code",
   "execution_count": 73,
   "id": "ebf99e09-2d8d-4a35-875e-d942e97c8b44",
   "metadata": {},
   "outputs": [
    {
     "data": {
      "text/html": [
       "<div>\n",
       "<style scoped>\n",
       "    .dataframe tbody tr th:only-of-type {\n",
       "        vertical-align: middle;\n",
       "    }\n",
       "\n",
       "    .dataframe tbody tr th {\n",
       "        vertical-align: top;\n",
       "    }\n",
       "\n",
       "    .dataframe thead th {\n",
       "        text-align: right;\n",
       "    }\n",
       "</style>\n",
       "<table border=\"1\" class=\"dataframe\">\n",
       "  <thead>\n",
       "    <tr style=\"text-align: right;\">\n",
       "      <th></th>\n",
       "      <th>variavel</th>\n",
       "      <th>quantidade</th>\n",
       "      <th>percentual</th>\n",
       "    </tr>\n",
       "  </thead>\n",
       "  <tbody>\n",
       "    <tr>\n",
       "      <th>0</th>\n",
       "      <td>Ciências aplicadas</td>\n",
       "      <td>1425473</td>\n",
       "      <td>68.8</td>\n",
       "    </tr>\n",
       "    <tr>\n",
       "      <th>1</th>\n",
       "      <td>Ciências sociais</td>\n",
       "      <td>369536</td>\n",
       "      <td>17.8</td>\n",
       "    </tr>\n",
       "    <tr>\n",
       "      <th>2</th>\n",
       "      <td>Matemática e ciências naturais</td>\n",
       "      <td>68744</td>\n",
       "      <td>3.3</td>\n",
       "    </tr>\n",
       "    <tr>\n",
       "      <th>3</th>\n",
       "      <td>Generalidades. Ciência e conhecimento</td>\n",
       "      <td>62521</td>\n",
       "      <td>3.0</td>\n",
       "    </tr>\n",
       "    <tr>\n",
       "      <th>4</th>\n",
       "      <td>Religião</td>\n",
       "      <td>62295</td>\n",
       "      <td>3.0</td>\n",
       "    </tr>\n",
       "    <tr>\n",
       "      <th>5</th>\n",
       "      <td>Filosofia e psicologia</td>\n",
       "      <td>60563</td>\n",
       "      <td>2.9</td>\n",
       "    </tr>\n",
       "    <tr>\n",
       "      <th>6</th>\n",
       "      <td>Geografia  Biografia História</td>\n",
       "      <td>7989</td>\n",
       "      <td>0.4</td>\n",
       "    </tr>\n",
       "    <tr>\n",
       "      <th>7</th>\n",
       "      <td>Belas artes</td>\n",
       "      <td>7911</td>\n",
       "      <td>0.4</td>\n",
       "    </tr>\n",
       "    <tr>\n",
       "      <th>8</th>\n",
       "      <td>Linguagem Língua Linguística</td>\n",
       "      <td>7490</td>\n",
       "      <td>0.4</td>\n",
       "    </tr>\n",
       "  </tbody>\n",
       "</table>\n",
       "</div>"
      ],
      "text/plain": [
       "                                variavel  quantidade  percentual\n",
       "0                     Ciências aplicadas     1425473        68.8\n",
       "1                       Ciências sociais      369536        17.8\n",
       "2         Matemática e ciências naturais       68744         3.3\n",
       "3  Generalidades. Ciência e conhecimento       62521         3.0\n",
       "4                               Religião       62295         3.0\n",
       "5                 Filosofia e psicologia       60563         2.9\n",
       "6          Geografia  Biografia História        7989         0.4\n",
       "7                            Belas artes        7911         0.4\n",
       "8           Linguagem Língua Linguística        7490         0.4"
      ]
     },
     "execution_count": 73,
     "metadata": {},
     "output_type": "execute_result"
    }
   ],
   "source": [
    "categorias"
   ]
  },
  {
   "cell_type": "code",
   "execution_count": 74,
   "id": "8b563d45-383d-46b0-803a-67208182675d",
   "metadata": {},
   "outputs": [],
   "source": [
    "def verificando_localizacao(valor):\n",
    "    categories = {\n",
    "        (0, 99): 'Generalidades. Ciência e conhecimento',\n",
    "        (100, 199): 'Filosofia e psicologia',\n",
    "        (200, 299): 'Religião',\n",
    "        (300, 399): 'Ciências sociais',\n",
    "        (400, 499): 'ND',\n",
    "        (500, 599): 'Matemática e ciências naturais',\n",
    "        (600, 699): 'Ciências aplicadas',\n",
    "        (700, 799): 'Belas artes',\n",
    "        (800, 899): 'Linguagem Língua Linguística',\n",
    "        (900, 999): 'Geografia  Biografia História'\n",
    "    }\n",
    "\n",
    "    for start, end in categories:\n",
    "        if start <= valor <= end:\n",
    "            return categories[(start, end)]\n",
    "\n",
    "    return 'Valor fora do intervalo válido'"
   ]
  },
  {
   "cell_type": "code",
   "execution_count": 76,
   "id": "590d5381-b196-4aa8-b473-1994f551bd60",
   "metadata": {},
   "outputs": [
    {
     "data": {
      "text/plain": [
       "'Ciências sociais'"
      ]
     },
     "execution_count": 76,
     "metadata": {},
     "output_type": "execute_result"
    }
   ],
   "source": [
    "verificando_localizacao(333)"
   ]
  },
  {
   "cell_type": "code",
   "execution_count": null,
   "id": "215f88ab-fa1c-4761-b5c4-d97a4522c2e8",
   "metadata": {},
   "outputs": [],
   "source": []
  }
 ],
 "metadata": {
  "kernelspec": {
   "display_name": "Python 3 (ipykernel)",
   "language": "python",
   "name": "python3"
  },
  "language_info": {
   "codemirror_mode": {
    "name": "ipython",
    "version": 3
   },
   "file_extension": ".py",
   "mimetype": "text/x-python",
   "name": "python",
   "nbconvert_exporter": "python",
   "pygments_lexer": "ipython3",
   "version": "3.11.7"
  }
 },
 "nbformat": 4,
 "nbformat_minor": 5
}
